{
 "cells": [
  {
   "cell_type": "markdown",
   "id": "226f956f",
   "metadata": {},
   "source": [
    "# 📘 Diccionario de Datos\n",
    "Este notebook contiene la descripción detallada de las tablas del modelo de datos usado en el proyecto BI."
   ]
  },
  {
   "cell_type": "markdown",
   "id": "7ba55d34",
   "metadata": {},
   "source": [
    "## Tabla: `dim_fecha`\n",
    "\n",
    "| Campo | Tipo de Dato | Descripción |\n",
    "|-------|---------------|-------------|\n",
    "| `id_fecha` | `INT` | Identificador único de la fecha |\n",
    "| `fecha` | `DATE` | Fecha completa |\n",
    "| `anio` | `INT` | Año de la fecha |\n",
    "| `mes` | `INT` | Mes de la fecha |\n",
    "| `dia` | `INT` | Día de la fecha |\n"
   ]
  },
  {
   "cell_type": "markdown",
   "id": "9e8f58f0",
   "metadata": {},
   "source": [
    "## Tabla: `dim_hora`\n",
    "\n",
    "| Campo | Tipo de Dato | Descripción |\n",
    "|-------|---------------|-------------|\n",
    "| `id_hora` | `INT` | Identificador único de la hora |\n",
    "| `hora` | `INT` | Hora en formato 12 |\n",
    "| `minuto` | `INT` | Minutos |\n",
    "| `am` | `BOOLEAN` | Indica si es AM (1) o PM (0) |\n"
   ]
  },
  {
   "cell_type": "markdown",
   "id": "28247690",
   "metadata": {},
   "source": [
    "## Tabla: `dim_pago`\n",
    "\n",
    "| Campo | Tipo de Dato | Descripción |\n",
    "|-------|---------------|-------------|\n",
    "| `id_pago` | `INT` | Identificador del método de pago |\n",
    "| `metodo` | `VARCHAR(16)` | Tipo de método de pago |\n",
    "| `banco_dest` | `VARCHAR(32)` | Nombre del banco destino |\n",
    "| `num_cuenta` | `VARCHAR(16)` | Número de cuenta del cliente |\n",
    "| `concepto` | `VARCHAR(32)` | Concepto del pago |\n",
    "| `titular` | `VARCHAR(64)` | Nombre del titular del pago |\n"
   ]
  },
  {
   "cell_type": "markdown",
   "id": "7f7cac50",
   "metadata": {},
   "source": [
    "## Tabla: `dim_producto`\n",
    "\n",
    "| Campo | Tipo de Dato | Descripción |\n",
    "|-------|---------------|-------------|\n",
    "| `codigo_producto` | `VARCHAR(16)` | Código único del producto |\n",
    "| `descripcion` | `VARCHAR(128)` | Nombre o descripción del producto |\n",
    "| `marca` | `VARCHAR(64)` | Marca del producto |\n",
    "| `categoria` | `VARCHAR(64)` | Categoría general |\n",
    "| `subcategoria` | `VARCHAR(64)` | Subcategoría específica |\n",
    "| `unidad` | `VARCHAR(30)` | Unidad de medida del producto |\n",
    "| `peso_lb` | `DECIMAL(6, 3)` | Peso en libras |\n",
    "| `color` | `VARCHAR(30)` | Color del producto |\n",
    "| `tamanio` | `VARCHAR(30)` | Tamaño del producto |\n"
   ]
  },
  {
   "cell_type": "markdown",
   "id": "38440a89",
   "metadata": {},
   "source": [
    "## Tabla: `dim_cliente`\n",
    "\n",
    "| Campo | Tipo de Dato | Descripción |\n",
    "|-------|---------------|-------------|\n",
    "| `id_cliente` | `INT` | Identificador único del cliente |\n",
    "| `nombres` | `VARCHAR(64)` | Nombres del cliente |\n",
    "| `apellidos` | `VARCHAR(64)` | Apellidos del cliente |\n",
    "| `correo` | `VARCHAR(64)` | Correo electrónico |\n",
    "| `dui` | `CHAR(10)` | Documento Único de Identidad |\n",
    "| `nit` | `VARCHAR(17)` | Número de Identificación Tributaria |\n",
    "| `giro` | `VARCHAR(64)` | Giro comercial del cliente |\n"
   ]
  },
  {
   "cell_type": "markdown",
   "id": "52011706",
   "metadata": {},
   "source": [
    "## Tabla: `dim_promocion`\n",
    "\n",
    "| Campo | Tipo de Dato | Descripción |\n",
    "|-------|---------------|-------------|\n",
    "| `id_promocion` | `INT` | Identificador único de la promoción |\n",
    "| `nommbre` | `VARCHAR(64)` | Nombre de la promoción |\n",
    "| `tipo` | `VARCHAR(32)` | Tipo de promoción |\n",
    "| `presupuesto` | `DECIMAL(10,2)` | Presupuesto asignado |\n",
    "| `fecha_inicio` | `DATE` | Fecha de inicio de la promoción |\n",
    "| `fecha_fin` | `DATE` | Fecha de finalización |\n"
   ]
  },
  {
   "cell_type": "markdown",
   "id": "47d12aa8",
   "metadata": {},
   "source": [
    "## Tabla: `dim_ubicacion`\n",
    "\n",
    "| Campo | Tipo de Dato | Descripción |\n",
    "|-------|---------------|-------------|\n",
    "| `id_ubicacion` | `INT` | Identificador de ubicación |\n",
    "| `departamento` | `VARCHAR(16)` | Departamento |\n",
    "| `municipio` | `VARCHAR(24)` | Municipio |\n",
    "| `direccion` | `VARCHAR(128)` | Dirección del cliente |\n",
    "| `referencia` | `VARCHAR(128)` | Punto de referencia |\n"
   ]
  },
  {
   "cell_type": "markdown",
   "id": "83b0d1e4",
   "metadata": {},
   "source": [
    "## Tabla: `dim_almacen`\n",
    "\n",
    "| Campo | Tipo de Dato | Descripción |\n",
    "|-------|---------------|-------------|\n",
    "| `id_almacen` | `INT` | Identificador único del almacén |\n",
    "| `nombre` | `VARCHAR(24)` | Nombre del almacén |\n",
    "| `sucursal` | `VARCHAR(24)` | Nombre de la sucursal |\n",
    "| `departamento` | `VARCHAR(16)` | Departamento |\n",
    "| `municipio` | `VARCHAR(24)` | Municipio |\n"
   ]
  },
  {
   "cell_type": "markdown",
   "id": "72610115",
   "metadata": {},
   "source": [
    "## Tabla: `fact_ventas`\n",
    "\n",
    "| Campo | Tipo de Dato | Descripción |\n",
    "|-------|---------------|-------------|\n",
    "| `id_venta` | `INT` | ID único de la venta |\n",
    "| `num_orden` | `INT` | Número de orden |\n",
    "| `corr_detalle` | `INT` | Detalle de orden |\n",
    "| `cantidad` | `DECIMAL(12,3)` | Cantidad vendida |\n",
    "| `monto` | `DECIMAL(10,2)` | Monto total |\n",
    "| `monto_descuento` | `DECIMAL(10,2)` | Descuento aplicado |\n",
    "| `monto_impuesto` | `DECIMAL(10,2)` | Impuesto agregado |\n",
    "| `monto_envio` | `DECIMAL(10,2)` | Costo de envío |\n",
    "| `id_fecha` | `INT` | Fecha de la venta |\n",
    "| `id_hora` | `INT` | Hora de la venta |\n",
    "| `id_cliente` | `INT` | Cliente asociado |\n",
    "| `codigo_producto` | `VARCHAR(16)` | Producto vendido |\n",
    "| `id_ubicacion` | `INT` | Ubicación del cliente |\n",
    "| `id_promocion` | `INT` | Promoción aplicada |\n",
    "| `id_pago` | `INT` | Método de pago |\n"
   ]
  },
  {
   "cell_type": "markdown",
   "id": "8f52cf88",
   "metadata": {},
   "source": [
    "## Tabla: `fact_movimientos_inventario`\n",
    "\n",
    "| Campo | Tipo de Dato | Descripción |\n",
    "|-------|---------------|-------------|\n",
    "| `id_movimiento` | `INT` | ID del movimiento |\n",
    "| `tipo_movimiento` | `VARCHAR(24)` | Tipo de movimiento |\n",
    "| `cantidad` | `DECIMAL(12,3)` | Cantidad movida |\n",
    "| `stock_resultante` | `DECIMAL(12,3)` | Stock después del movimiento |\n",
    "| `id_fecha` | `INT` | Fecha del movimiento |\n",
    "| `id_hora` | `INT` | Hora del movimiento |\n",
    "| `codigo_producto` | `VARCHAR(16)` | Producto afectado |\n",
    "| `id_almacen` | `INT` | Almacén correspondiente |\n"
   ]
  }
 ],
 "metadata": {},
 "nbformat": 4,
 "nbformat_minor": 5
}
